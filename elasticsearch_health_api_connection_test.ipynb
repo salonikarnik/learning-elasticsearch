{
 "cells": [
  {
   "cell_type": "code",
   "execution_count": 1,
   "id": "3df943b8",
   "metadata": {},
   "outputs": [
    {
     "name": "stdout",
     "output_type": "stream",
     "text": [
      "✅ Connected to Elasticsearch!\n",
      "Cluster Health: green\n"
     ]
    }
   ],
   "source": [
    "from elasticsearch import Elasticsearch\n",
    "\n",
    "# Connect to Elasticsearch (no auth needed now)\n",
    "es = Elasticsearch(\"http://localhost:9200\")\n",
    "\n",
    "# Use the health API to check connection\n",
    "try:\n",
    "    health = es.cluster.health()\n",
    "    print(\"✅ Connected to Elasticsearch!\")\n",
    "    print(\"Cluster Health:\", health[\"status\"])  # Check if status is 'green', 'yellow', etc.\n",
    "except Exception as e:\n",
    "    print(\"❌ Could not connect. Error:\", e)\n"
   ]
  }
 ],
 "metadata": {
  "kernelspec": {
   "display_name": "elastic_venv",
   "language": "python",
   "name": "python3"
  },
  "language_info": {
   "codemirror_mode": {
    "name": "ipython",
    "version": 3
   },
   "file_extension": ".py",
   "mimetype": "text/x-python",
   "name": "python",
   "nbconvert_exporter": "python",
   "pygments_lexer": "ipython3",
   "version": "3.9.6"
  }
 },
 "nbformat": 4,
 "nbformat_minor": 5
}
